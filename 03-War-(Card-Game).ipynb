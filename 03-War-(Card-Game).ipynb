{
 "cells": [
  {
   "cell_type": "code",
   "execution_count": 1,
   "id": "701ff012-8290-42c9-ab8b-61de031151cb",
   "metadata": {},
   "outputs": [],
   "source": [
    "# CARD\n",
    "# SUIT, RANK, VALUE\n",
    "import random\n",
    "\n",
    "suits = ('Hearts', 'Diamonds', 'Spades', 'Clubs')\n",
    "ranks = ('Two', 'Three', 'Four', 'Five', 'Six', 'Seven', 'Eight', 'Nine', 'Ten', 'Jack', 'Queen', 'King', 'Ace')\n",
    "values = {'Two':2, 'Three':3, 'Four':4, 'Five':5, 'Six':6, 'Seven':7, 'Eight':8, \n",
    "            'Nine':9, 'Ten':10, 'Jack':11, 'Queen':12, 'King':13, 'Ace':14}"
   ]
  },
  {
   "cell_type": "code",
   "execution_count": 2,
   "id": "4480c8e8-bd0b-4e7f-bc16-973338c70fd9",
   "metadata": {},
   "outputs": [],
   "source": [
    "class Card:\n",
    "\n",
    "    def __init__(self, suit, rank):\n",
    "        self.suit = suit\n",
    "        self.rank = rank\n",
    "        self.value = values[rank]\n",
    "\n",
    "    def __str__(self):\n",
    "        return self.rank + \" of \" + self.suit"
   ]
  },
  {
   "cell_type": "code",
   "execution_count": 3,
   "id": "13e034d5-3376-453e-895a-8603fd62d37a",
   "metadata": {},
   "outputs": [],
   "source": [
    "three_of_clubs = Card(\"Clubs\", \"Three\")"
   ]
  },
  {
   "cell_type": "code",
   "execution_count": 4,
   "id": "27726cbf-c0db-4d37-aac7-177f01576e5e",
   "metadata": {},
   "outputs": [
    {
     "data": {
      "text/plain": [
       "3"
      ]
     },
     "execution_count": 4,
     "metadata": {},
     "output_type": "execute_result"
    }
   ],
   "source": [
    "three_of_clubs.value"
   ]
  },
  {
   "cell_type": "code",
   "execution_count": 5,
   "id": "190f23e0-9800-4d0c-aaa0-719d18a70da6",
   "metadata": {},
   "outputs": [
    {
     "name": "stdout",
     "output_type": "stream",
     "text": [
      "Three of Clubs\n"
     ]
    }
   ],
   "source": [
    "print(three_of_clubs)"
   ]
  },
  {
   "cell_type": "code",
   "execution_count": 6,
   "id": "88f3a8c2-0b61-4eea-bd48-f04a514691a7",
   "metadata": {},
   "outputs": [],
   "source": [
    "two_hearts = Card(\"Hearts\", \"Two\")"
   ]
  },
  {
   "cell_type": "code",
   "execution_count": 7,
   "id": "6a52be39-8994-488f-bb14-fc6e3fde5f9e",
   "metadata": {},
   "outputs": [
    {
     "name": "stdout",
     "output_type": "stream",
     "text": [
      "Two of Hearts\n"
     ]
    }
   ],
   "source": [
    "print(two_hearts)"
   ]
  },
  {
   "cell_type": "code",
   "execution_count": 8,
   "id": "cb3bc3a8-e76d-433a-a05b-1ac3fd350d85",
   "metadata": {},
   "outputs": [
    {
     "data": {
      "text/plain": [
       "'Hearts'"
      ]
     },
     "execution_count": 8,
     "metadata": {},
     "output_type": "execute_result"
    }
   ],
   "source": [
    "two_hearts.suit"
   ]
  },
  {
   "cell_type": "code",
   "execution_count": 9,
   "id": "041108ca-c8f1-46c7-906e-30a44c9c6714",
   "metadata": {},
   "outputs": [
    {
     "data": {
      "text/plain": [
       "'Two'"
      ]
     },
     "execution_count": 9,
     "metadata": {},
     "output_type": "execute_result"
    }
   ],
   "source": [
    "two_hearts.rank"
   ]
  },
  {
   "cell_type": "code",
   "execution_count": 10,
   "id": "d4aee7ec-9b53-4352-b6cb-520ed674de42",
   "metadata": {},
   "outputs": [
    {
     "data": {
      "text/plain": [
       "2"
      ]
     },
     "execution_count": 10,
     "metadata": {},
     "output_type": "execute_result"
    }
   ],
   "source": [
    "two_hearts.value"
   ]
  },
  {
   "cell_type": "code",
   "execution_count": 11,
   "id": "ee46e66e-dd44-4e0b-b2ea-b8510df5d2dd",
   "metadata": {},
   "outputs": [
    {
     "data": {
      "text/plain": [
       "True"
      ]
     },
     "execution_count": 11,
     "metadata": {},
     "output_type": "execute_result"
    }
   ],
   "source": [
    "two_hearts.value < three_of_clubs.value"
   ]
  },
  {
   "cell_type": "code",
   "execution_count": 12,
   "id": "832c990d-1a1a-44bd-8989-ccce0cb5e856",
   "metadata": {},
   "outputs": [],
   "source": [
    "## DECK CLASS ##"
   ]
  },
  {
   "cell_type": "code",
   "execution_count": 13,
   "id": "6dfc90eb-ace0-4259-98b7-cbb37bd0ab8b",
   "metadata": {},
   "outputs": [],
   "source": [
    "class Deck:\n",
    "\n",
    "    def __init__(self):\n",
    "        self.all_cards = []\n",
    "\n",
    "        for suit in suits:\n",
    "            for rank in ranks:\n",
    "                # Create the Card Object\n",
    "                created_card = Card(suit, rank)\n",
    "                self.all_cards.append(created_card)\n",
    "\n",
    "    def shuffle(self):\n",
    "\n",
    "        random.shuffle(self.all_cards)\n",
    "\n",
    "    def deal_one(self):\n",
    "        return self.all_cards.pop()"
   ]
  },
  {
   "cell_type": "code",
   "execution_count": 14,
   "id": "54dc2d37-b9d4-44ce-baf8-40dd37e8d7ff",
   "metadata": {},
   "outputs": [],
   "source": [
    "new_deck = Deck()"
   ]
  },
  {
   "cell_type": "code",
   "execution_count": 15,
   "id": "e1cfb247-4ab4-4283-948e-99a5752fba36",
   "metadata": {},
   "outputs": [],
   "source": [
    "new_deck.shuffle()"
   ]
  },
  {
   "cell_type": "code",
   "execution_count": 16,
   "id": "2297778b-d796-47dc-8bdd-83330543953c",
   "metadata": {},
   "outputs": [],
   "source": [
    "mycard = new_deck.deal_one()"
   ]
  },
  {
   "cell_type": "code",
   "execution_count": 17,
   "id": "bc1c72e7-aafc-413c-a570-a2cb0b9f2e7b",
   "metadata": {},
   "outputs": [
    {
     "name": "stdout",
     "output_type": "stream",
     "text": [
      "Two of Clubs\n"
     ]
    }
   ],
   "source": [
    "print(mycard)"
   ]
  },
  {
   "cell_type": "code",
   "execution_count": 18,
   "id": "0b8c0e25-b2c0-495d-83c7-71c01b5f48f9",
   "metadata": {},
   "outputs": [
    {
     "data": {
      "text/plain": [
       "51"
      ]
     },
     "execution_count": 18,
     "metadata": {},
     "output_type": "execute_result"
    }
   ],
   "source": [
    "len(new_deck.all_cards)"
   ]
  },
  {
   "cell_type": "code",
   "execution_count": 19,
   "id": "21c533f9-bcc4-412a-bfd0-f1587da0f4fd",
   "metadata": {},
   "outputs": [],
   "source": [
    "bottom_card = new_deck.all_cards[-1]"
   ]
  },
  {
   "cell_type": "code",
   "execution_count": 20,
   "id": "7f5a0ead-8fa9-4a9f-96a1-65f085aa84e2",
   "metadata": {},
   "outputs": [
    {
     "name": "stdout",
     "output_type": "stream",
     "text": [
      "Two of Spades\n"
     ]
    }
   ],
   "source": [
    "print(bottom_card)"
   ]
  },
  {
   "cell_type": "code",
   "execution_count": 21,
   "id": "f1a7815d-f09d-44ce-ae57-aa1ce4890aa6",
   "metadata": {},
   "outputs": [],
   "source": [
    "new_deck.shuffle()"
   ]
  },
  {
   "cell_type": "code",
   "execution_count": 22,
   "id": "8cfc3611-dc15-4c68-abcd-41205cf853c7",
   "metadata": {},
   "outputs": [
    {
     "name": "stdout",
     "output_type": "stream",
     "text": [
      "Two of Diamonds\n"
     ]
    }
   ],
   "source": [
    "print(new_deck.all_cards[-1])"
   ]
  },
  {
   "cell_type": "code",
   "execution_count": 23,
   "id": "251cbc52-8a92-4c55-8a14-cf66b25583bb",
   "metadata": {},
   "outputs": [],
   "source": [
    "## PLAYER CLASS ##"
   ]
  },
  {
   "cell_type": "code",
   "execution_count": 24,
   "id": "de9722da-e685-4a7a-8c5d-5167fda83f84",
   "metadata": {},
   "outputs": [],
   "source": [
    "class Player:\n",
    "\n",
    "    def __init__(self, name):\n",
    "        self.name = name\n",
    "        self.all_cards = []\n",
    "\n",
    "    def remove_one(self):\n",
    "        return self.all_cards.pop(0)\n",
    "\n",
    "    def add_cards(self, new_cards):\n",
    "        if type(new_cards) == type([]):\n",
    "            # List of multiple card objects\n",
    "            self.all_cards.extend(new_cards)\n",
    "        else:\n",
    "            # For a single card object\n",
    "            self.all_cards.append(new_cards)\n",
    "\n",
    "    def __str__(self):\n",
    "        return f\"Player {self.name} has {len(self.all_cards)} cards\""
   ]
  },
  {
   "cell_type": "code",
   "execution_count": 25,
   "id": "1cf26360-a905-4203-bf0b-4378601dd3c1",
   "metadata": {},
   "outputs": [],
   "source": [
    "new_player = Player(\"Anna\")"
   ]
  },
  {
   "cell_type": "code",
   "execution_count": 26,
   "id": "737bb99d-0e70-4f5f-ac4b-0249b5f1e06c",
   "metadata": {},
   "outputs": [
    {
     "name": "stdout",
     "output_type": "stream",
     "text": [
      "Player Anna has 0 cards\n"
     ]
    }
   ],
   "source": [
    "print(new_player)"
   ]
  },
  {
   "cell_type": "code",
   "execution_count": 27,
   "id": "ff1203c3-a275-4f8f-951d-e3f6c446f0bc",
   "metadata": {},
   "outputs": [],
   "source": [
    "new_player.add_cards(mycard)"
   ]
  },
  {
   "cell_type": "code",
   "execution_count": 28,
   "id": "84bce73a-14f7-44cc-8b3b-d5855682feb9",
   "metadata": {},
   "outputs": [
    {
     "name": "stdout",
     "output_type": "stream",
     "text": [
      "Player Anna has 1 cards\n"
     ]
    }
   ],
   "source": [
    "print(new_player)"
   ]
  },
  {
   "cell_type": "code",
   "execution_count": 29,
   "id": "65806d67-a13f-4f07-878f-a98892a85f04",
   "metadata": {},
   "outputs": [],
   "source": [
    "new_player.add_cards([mycard, mycard, mycard])"
   ]
  },
  {
   "cell_type": "code",
   "execution_count": 30,
   "id": "b368b214-6c56-44f2-af05-311162f2b996",
   "metadata": {},
   "outputs": [
    {
     "name": "stdout",
     "output_type": "stream",
     "text": [
      "Player Anna has 4 cards\n"
     ]
    }
   ],
   "source": [
    "print(new_player)"
   ]
  },
  {
   "cell_type": "code",
   "execution_count": 31,
   "id": "a0baa2f5-783f-4331-a1fa-02a4ef85f83e",
   "metadata": {},
   "outputs": [
    {
     "name": "stdout",
     "output_type": "stream",
     "text": [
      "Two of Clubs\n"
     ]
    }
   ],
   "source": [
    "print(mycard)"
   ]
  },
  {
   "cell_type": "code",
   "execution_count": 32,
   "id": "8ba1b6e1-fad1-4e91-bd4e-ac6af8c48949",
   "metadata": {},
   "outputs": [
    {
     "data": {
      "text/plain": [
       "<__main__.Card at 0x1081b6090>"
      ]
     },
     "execution_count": 32,
     "metadata": {},
     "output_type": "execute_result"
    }
   ],
   "source": [
    "new_player.remove_one()"
   ]
  },
  {
   "cell_type": "code",
   "execution_count": 33,
   "id": "58380fcc-1a29-46d2-9db7-263ef850f7d9",
   "metadata": {},
   "outputs": [
    {
     "name": "stdout",
     "output_type": "stream",
     "text": [
      "Player Anna has 3 cards\n"
     ]
    }
   ],
   "source": [
    "print(new_player)"
   ]
  },
  {
   "cell_type": "code",
   "execution_count": null,
   "id": "a1ede5f2-445e-4d96-9b40-760e8e518aee",
   "metadata": {},
   "outputs": [],
   "source": []
  },
  {
   "cell_type": "code",
   "execution_count": 34,
   "id": "b85ac8a2-beb5-4173-b55d-3b88bc4dc3d5",
   "metadata": {},
   "outputs": [],
   "source": [
    "## GAME LOGIC ##"
   ]
  },
  {
   "cell_type": "code",
   "execution_count": 35,
   "id": "de107ebe-a64d-4f7f-b319-e65aa2b95cec",
   "metadata": {},
   "outputs": [],
   "source": [
    "# GAME SETUP\n",
    "player_one = Player(\"One\")\n",
    "player_two = Player(\"Two\")\n",
    "\n",
    "new_deck = Deck()\n",
    "new_deck.shuffle()\n",
    "\n",
    "for x in range(26):\n",
    "    player_one.add_cards(new_deck.deal_one())\n",
    "    player_two.add_cards(new_deck.deal_one())"
   ]
  },
  {
   "cell_type": "code",
   "execution_count": 36,
   "id": "45a29053-e894-4497-a4c1-aab4daa2c515",
   "metadata": {},
   "outputs": [],
   "source": [
    "game_on = True"
   ]
  },
  {
   "cell_type": "code",
   "execution_count": 37,
   "id": "741f54eb-d0e8-41ee-a0d9-8f5e999dab70",
   "metadata": {},
   "outputs": [
    {
     "name": "stdout",
     "output_type": "stream",
     "text": [
      "Round 1\n",
      "Round 2\n",
      "WAR!\n",
      "Round 3\n",
      "Round 4\n",
      "Round 5\n",
      "Round 6\n",
      "Round 7\n",
      "Round 8\n",
      "Round 9\n",
      "Round 10\n",
      "Round 11\n",
      "Round 12\n",
      "Round 13\n",
      "WAR!\n",
      "Round 14\n",
      "Round 15\n",
      "Round 16\n",
      "Round 17\n",
      "Round 18\n",
      "Round 19\n",
      "Round 20\n",
      "Round 21\n",
      "Round 22\n",
      "Round 23\n",
      "Round 24\n",
      "Round 25\n",
      "Round 26\n",
      "Round 27\n",
      "Round 28\n",
      "Round 29\n",
      "WAR!\n",
      "Round 30\n",
      "Round 31\n",
      "Round 32\n",
      "Round 33\n",
      "Round 34\n",
      "Round 35\n",
      "Round 36\n",
      "Round 37\n",
      "Round 38\n",
      "Round 39\n",
      "Round 40\n",
      "Round 41\n",
      "Round 42\n",
      "Round 43\n",
      "Round 44\n",
      "Round 45\n",
      "Round 46\n",
      "Round 47\n",
      "Round 48\n",
      "Round 49\n",
      "Round 50\n",
      "Round 51\n",
      "Round 52\n",
      "Round 53\n",
      "Round 54\n",
      "Round 55\n",
      "Round 56\n",
      "Round 57\n",
      "Round 58\n",
      "Round 59\n",
      "Round 60\n",
      "Round 61\n",
      "Round 62\n",
      "Round 63\n",
      "Round 64\n",
      "Round 65\n",
      "Round 66\n",
      "WAR!\n",
      "Playe One unable to declare war\n",
      "PLAYER TWO WINS!\n"
     ]
    }
   ],
   "source": [
    "round_num = 0\n",
    "\n",
    "while game_on:\n",
    "\n",
    "    round_num +=1\n",
    "    print(f\"Round {round_num}\")\n",
    "\n",
    "    if len(player_one.all_cards) == 0:\n",
    "        print(\"Player one, out of cards! Player Two Wins!\")\n",
    "        game_on = False\n",
    "        break\n",
    "\n",
    "    if len(player_two.all_cards) == 0:\n",
    "        print(\"Player two, out of cards! Player One Wins!\")\n",
    "        game_on = False\n",
    "        break\n",
    "\n",
    "    # START A NEW ROUND\n",
    "    player_one_cards = []\n",
    "    player_one_cards.append(player_one.remove_one())\n",
    "\n",
    "    player_two_cards = []\n",
    "    player_two_cards.append(player_two.remove_one())\n",
    "\n",
    "    # while at_war\n",
    "    at_war = True\n",
    "\n",
    "    while at_war:\n",
    "\n",
    "        if player_one_cards[-1].value > player_two_cards[-1].value:\n",
    "\n",
    "            player_one.add_cards(player_one_cards)\n",
    "            player_one.add_cards(player_two_cards)\n",
    "            \n",
    "            at_war = False\n",
    "\n",
    "        elif player_one_cards[-1].value < player_two_cards[-1].value:\n",
    "\n",
    "            player_two.add_cards(player_one_cards)\n",
    "            player_two.add_cards(player_two_cards)\n",
    "            \n",
    "            at_war = False\n",
    "\n",
    "        else:\n",
    "            print(\"WAR!\")\n",
    "\n",
    "            if len(player_one.all_cards) < 5:\n",
    "                print(\"Playe One unable to declare war\")\n",
    "                print(\"PLAYER TWO WINS!\")\n",
    "                game_on = False\n",
    "                break\n",
    "\n",
    "            if len(player_two.all_cards) < 5:\n",
    "                print(\"Playe Two unable to declare war\")\n",
    "                print(\"PLAYER ONE WINS!\")\n",
    "                game_on = False\n",
    "                break\n",
    "\n",
    "            else:\n",
    "                for num in range(5):\n",
    "                    player_one_cards.append(player_one.remove_one())\n",
    "                    player_two_cards.append(player_two.remove_one())\n",
    "            "
   ]
  },
  {
   "cell_type": "code",
   "execution_count": null,
   "id": "b51f7d0f-ef31-4cf8-8cca-44f4c0f05340",
   "metadata": {},
   "outputs": [],
   "source": []
  }
 ],
 "metadata": {
  "kernelspec": {
   "display_name": "Python 3 (ipykernel)",
   "language": "python",
   "name": "python3"
  },
  "language_info": {
   "codemirror_mode": {
    "name": "ipython",
    "version": 3
   },
   "file_extension": ".py",
   "mimetype": "text/x-python",
   "name": "python",
   "nbconvert_exporter": "python",
   "pygments_lexer": "ipython3",
   "version": "3.11.7"
  }
 },
 "nbformat": 4,
 "nbformat_minor": 5
}
