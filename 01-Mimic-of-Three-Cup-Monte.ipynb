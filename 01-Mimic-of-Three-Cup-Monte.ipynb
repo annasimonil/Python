{
 "cells": [
  {
   "cell_type": "code",
   "execution_count": 1,
   "id": "2320c67b-b605-4b18-8c30-beb7bf93c183",
   "metadata": {},
   "outputs": [
    {
     "name": "stdin",
     "output_type": "stream",
     "text": [
      "Guess any number: 0, 1 or 2 1\n"
     ]
    },
    {
     "name": "stdout",
     "output_type": "stream",
     "text": [
      "Oops! You're Guess is Wrong!\n",
      "['O', ' ', ' ']\n"
     ]
    }
   ],
   "source": [
    "from random import shuffle\n",
    "\n",
    "mylist = [' ', 'O', ' ']\n",
    "\n",
    "def shuffle_list(mylist):\n",
    "    shuffle(mylist)\n",
    "    return mylist\n",
    "shuffled_list = shuffle_list(mylist)\n",
    "\n",
    "\n",
    "def user_guess():\n",
    "    guess = ''\n",
    "    while guess not in ['0', '1', '2']:\n",
    "        guess = input(\"Guess any number: 0, 1 or 2\")\n",
    "    return int(guess) \n",
    "the_index = user_guess()\n",
    "\n",
    "\n",
    "def check_guess(mylist, guess):\n",
    "    if mylist[guess] == 'O':\n",
    "        print('Correct Guess!')\n",
    "    else:\n",
    "        print(\"Oops! You're Guess is Wrong!\")\n",
    "        print(mylist)  \n",
    "check_guess(shuffled_list, the_index)"
   ]
  },
  {
   "cell_type": "code",
   "execution_count": null,
   "id": "258c7bd3-7253-48a8-95d0-6fcb8e9fd396",
   "metadata": {},
   "outputs": [],
   "source": []
  }
 ],
 "metadata": {
  "kernelspec": {
   "display_name": "Python 3 (ipykernel)",
   "language": "python",
   "name": "python3"
  },
  "language_info": {
   "codemirror_mode": {
    "name": "ipython",
    "version": 3
   },
   "file_extension": ".py",
   "mimetype": "text/x-python",
   "name": "python",
   "nbconvert_exporter": "python",
   "pygments_lexer": "ipython3",
   "version": "3.11.7"
  }
 },
 "nbformat": 4,
 "nbformat_minor": 5
}
